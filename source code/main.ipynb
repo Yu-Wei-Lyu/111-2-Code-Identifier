{
 "cells": [
  {
   "attachments": {},
   "cell_type": "markdown",
   "metadata": {},
   "source": [
    "## Import packages"
   ]
  },
  {
   "cell_type": "code",
   "execution_count": 1,
   "metadata": {},
   "outputs": [],
   "source": [
    "import sqlite3"
   ]
  },
  {
   "attachments": {},
   "cell_type": "markdown",
   "metadata": {},
   "source": [
    "## 資料集擷取並寫入檔案 "
   ]
  },
  {
   "cell_type": "code",
   "execution_count": 2,
   "metadata": {},
   "outputs": [
    {
     "name": "stdout",
     "output_type": "stream",
     "text": [
      "language_bash.txt create successfully.\n",
      "language_c.txt create successfully.\n",
      "language_c++.txt create successfully.\n",
      "language_go.txt create successfully.\n",
      "language_java.txt create successfully.\n",
      "language_javascript.txt create successfully.\n",
      "language_powershell.txt create successfully.\n",
      "language_python.txt create successfully.\n",
      "language_ruby.txt create successfully.\n",
      "language_rust.txt create successfully.\n"
     ]
    }
   ],
   "source": [
    "code_type_list = ('Bash','C','C++','Go','Java','JavaScript','PowerShell','Python','Ruby','Rust')\n",
    "conn = sqlite3.connect('../snippets/snippets.db')\n",
    "cursor = conn.cursor()\n",
    "for code_type in code_type_list:\n",
    "    try:\n",
    "        rows = cursor.execute(f\"select snippet from snippets where language = '{code_type}';\")\n",
    "        with open(f'../snippets/language_{code_type.lower()}.txt', 'w', encoding='utf-8') as f:\n",
    "            for row in rows:\n",
    "                f.write(row[0])\n",
    "        print(f\"language_{code_type.lower()}.txt create successfully.\")\n",
    "    except :\n",
    "        print(f\"Error, table has no column named {code_type}\")"
   ]
  }
 ],
 "metadata": {
  "kernelspec": {
   "display_name": "Python 3",
   "language": "python",
   "name": "python3"
  },
  "language_info": {
   "codemirror_mode": {
    "name": "ipython",
    "version": 3
   },
   "file_extension": ".py",
   "mimetype": "text/x-python",
   "name": "python",
   "nbconvert_exporter": "python",
   "pygments_lexer": "ipython3",
   "version": "3.10.11"
  },
  "orig_nbformat": 4
 },
 "nbformat": 4,
 "nbformat_minor": 2
}
